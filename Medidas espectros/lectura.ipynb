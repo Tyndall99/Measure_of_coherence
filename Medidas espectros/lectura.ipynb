{
 "cells": [
  {
   "cell_type": "code",
   "execution_count": 64,
   "id": "f867cce4",
   "metadata": {},
   "outputs": [],
   "source": [
    "import pandas as pd\n",
    "import numpy as np\n",
    "import matplotlib.pyplot as plt"
   ]
  },
  {
   "cell_type": "code",
   "execution_count": 65,
   "id": "79bdb9b2",
   "metadata": {},
   "outputs": [],
   "source": [
    "data1=pd.read_excel('Stephanny_1.xlsx') \n",
    "data2=pd.read_excel('Stephanny_2.xlsx') \n",
    "data3=pd.read_excel('Stephanny_3.xlsx') "
   ]
  },
  {
   "cell_type": "code",
   "execution_count": 66,
   "id": "8e66cb57",
   "metadata": {},
   "outputs": [
    {
     "data": {
      "text/plain": [
       "pandas.core.frame.DataFrame"
      ]
     },
     "execution_count": 66,
     "metadata": {},
     "output_type": "execute_result"
    }
   ],
   "source": [
    "type(data1)"
   ]
  },
  {
   "cell_type": "code",
   "execution_count": 67,
   "id": "c0b267ec",
   "metadata": {},
   "outputs": [
    {
     "name": "stdout",
     "output_type": "stream",
     "text": [
      "       Espectros1   Espectros2   Espectros3   Espectros4   Espectros5  \\\n",
      "0      346.548983  1476.585469  1411.050469  1431.530156  1456.105781   \n",
      "1      346.764647  1476.585469  1411.050469  1431.530156  1456.105781   \n",
      "2      346.980301  1476.585469  1411.050469  1431.530156  1456.105781   \n",
      "3      347.195946  1447.913906  1480.681406  1443.817969  1480.681406   \n",
      "4      347.411580  1468.393594  1427.434219  1413.098438  1474.537500   \n",
      "5      347.627204  1435.626094  1415.146406  1462.249687  1423.338281   \n",
      "6      347.842818  1402.858594  1429.482188  1480.681406  1441.770000   \n",
      "7      348.058422  1400.810625  1458.153750  1406.954531  1472.489531   \n",
      "8      348.274015  1413.098438  1454.057812  1415.146406  1390.570781   \n",
      "9      348.489599  1435.626094  1447.913906  1476.585469  1486.825313   \n",
      "10     348.705172  1449.766830  1441.282388  1439.722031  1450.059397   \n",
      "11     348.920735  1444.988237  1443.622924  1441.672478  1447.816384   \n",
      "12     349.136289  1446.646116  1442.842746  1443.525402  1448.011429   \n",
      "13     349.351832  1446.938683  1442.355134  1446.646116  1448.206473   \n",
      "14     349.567364  1448.108951  1443.622924  1447.523817  1448.791607   \n",
      "15     349.782887  1449.669308  1444.695670  1448.791607  1444.305580   \n",
      "16     349.998400  1450.351964  1449.474263  1446.646116  1447.523817   \n",
      "17     350.213902  1455.423125  1450.449487  1446.451071  1447.133728   \n",
      "18     350.429394  1458.446317  1449.864353  1447.913906  1448.011429   \n",
      "19     350.644876  1459.324018  1446.743638  1448.401518  1452.790022   \n",
      "20     350.860348  1461.859598  1447.913906  1447.328772  1452.107366   \n",
      "21     351.075810  1458.153750  1452.399933  1445.670893  1451.619754   \n",
      "22     351.291262  1457.568616  1454.252857  1442.257612  1448.889129   \n",
      "23     351.506703  1455.228080  1452.692500  1441.965045  1447.621339   \n",
      "24     351.722134  1455.715692  1454.545424  1441.379911  1449.766830   \n",
      "25     351.937555  1458.348795  1453.667723  1438.064152  1446.646116   \n",
      "26     352.152966  1458.738884  1451.619754  1436.796362  1447.426295   \n",
      "27     352.368367  1452.985067  1448.694085  1432.700424  1448.011429   \n",
      "28     352.583758  1455.228080  1450.254442  1435.040960  1447.816384   \n",
      "29     352.799138  1455.910737  1449.181696  1438.259196  1450.351964   \n",
      "...           ...          ...          ...          ...          ...   \n",
      "3618  1039.087064  1454.252857  1454.837991  1463.712522  1442.452656   \n",
      "3619  1039.248244  1452.692500  1451.034621  1459.909152  1444.208058   \n",
      "3620  1039.409405  1453.082589  1451.229665  1454.252857  1445.280804   \n",
      "3621  1039.570545  1453.472679  1451.717277  1454.155335  1447.523817   \n",
      "3622  1039.731665  1456.203304  1447.621339  1454.252857  1447.621339   \n",
      "3623  1039.892766  1456.690915  1450.742054  1452.009844  1447.718862   \n",
      "3624  1040.053846  1457.276049  1449.376741  1454.447902  1449.376741   \n",
      "3625  1040.214906  1460.299241  1449.376741  1453.472679  1447.426295   \n",
      "3626  1040.375946  1463.029866  1447.913906  1452.497455  1446.353549   \n",
      "3627  1040.536966  1455.813214  1452.985067  1451.132143  1447.133728   \n",
      "3628  1040.697967  1455.423125  1453.082589  1449.571786  1448.401518   \n",
      "3629  1040.858947  1455.618170  1455.130558  1450.937098  1449.669308   \n",
      "3630  1041.019907  1457.178527  1453.472679  1446.548594  1450.156920   \n",
      "3631  1041.180847  1456.885960  1455.813214  1448.108951  1449.279219   \n",
      "3632  1041.341767  1456.593393  1458.543839  1448.889129  1448.206473   \n",
      "3633  1041.502667  1456.008259  1457.178527  1447.036205  1445.475848   \n",
      "3634  1041.663547  1455.910737  1456.593393  1451.229665  1449.279219   \n",
      "3635  1041.824406  1457.178527  1453.862768  1453.472679  1451.424710   \n",
      "3636  1041.985246  1460.591808  1450.742054  1451.522232  1452.302411   \n",
      "3637  1042.146066  1463.224911  1451.912321  1447.036205  1454.350379   \n",
      "3638  1042.306866  1433.578125  1488.873281  1433.578125  1441.770000   \n",
      "3639  1042.467645  1464.297656  1441.770000  1470.441562  1460.201719   \n",
      "3640  1042.628405  1480.681406  1427.434219  1441.770000  1441.770000   \n",
      "3641  1042.789144  1421.290313  1476.585469  1490.921250  1413.098438   \n",
      "3642  1042.949864  1443.817969  1505.257031  1454.057812  1429.482188   \n",
      "3643  1043.110563  1419.242344  1460.201719  1409.002500  1411.050469   \n",
      "3644  1043.271242  1445.865937  1452.009844  1503.209063  1535.976562   \n",
      "3645  1043.431901  1441.770000  1417.194375  1441.770000  1433.578125   \n",
      "3646  1043.592540  1507.305000  1398.762656  1425.386250  1431.530156   \n",
      "3647  1043.753159  1490.921250  1445.865937  1435.626094  1517.544844   \n",
      "\n",
      "       Espectros6   Espectros7   Espectros8   Espectros9  Espectros10  ...  \\\n",
      "0     1454.057812  1490.921250  1437.674062  1423.338281  1464.297656  ...   \n",
      "1     1454.057812  1490.921250  1437.674062  1423.338281  1464.297656  ...   \n",
      "2     1454.057812  1490.921250  1437.674062  1423.338281  1464.297656  ...   \n",
      "3     1452.009844  1460.201719  1429.482188  1472.489531  1423.338281  ...   \n",
      "4     1433.578125  1433.578125  1439.722031  1486.825313  1427.434219  ...   \n",
      "5     1439.722031  1507.305000  1433.578125  1490.921250  1417.194375  ...   \n",
      "6     1427.434219  1503.209063  1495.017188  1404.906563  1429.482188  ...   \n",
      "7     1456.105781  1478.633437  1445.865937  1437.674062  1435.626094  ...   \n",
      "8     1511.400938  1462.249687  1476.585469  1472.489531  1454.057812  ...   \n",
      "9     1449.961875  1417.194375  1388.522813  1433.578125  1433.578125  ...   \n",
      "10    1453.375156  1460.981897  1451.034621  1453.862768  1445.865937  ...   \n",
      "11    1455.715692  1457.958705  1451.717277  1454.447902  1445.963460  ...   \n",
      "12    1454.447902  1460.494286  1453.277634  1456.105781  1444.305580  ...   \n",
      "13    1451.814799  1457.373571  1454.740469  1454.837991  1445.670893  ...   \n",
      "14    1451.424710  1458.543839  1457.568616  1456.690915  1449.669308  ...   \n",
      "15    1452.009844  1457.763661  1459.128973  1456.105781  1450.839576  ...   \n",
      "16    1453.180112  1454.350379  1460.884375  1456.690915  1452.692500  ...   \n",
      "17    1451.717277  1449.864353  1458.348795  1458.348795  1455.325603  ...   \n",
      "18    1451.327188  1449.474263  1457.763661  1463.907567  1455.715692  ...   \n",
      "19    1447.133728  1450.351964  1455.423125  1461.859598  1453.472679  ...   \n",
      "20    1450.059397  1451.619754  1460.786853  1464.005089  1452.790022  ...   \n",
      "21    1453.472679  1451.912321  1462.737299  1461.957121  1453.180112  ...   \n",
      "22    1452.302411  1454.350379  1460.396763  1463.322433  1452.790022  ...   \n",
      "23    1452.497455  1455.910737  1459.714107  1461.079420  1454.057812  ...   \n",
      "24    1453.862768  1458.348795  1464.687746  1460.201719  1456.788437  ...   \n",
      "25    1455.325603  1460.396763  1461.079420  1455.520647  1459.128973  ...   \n",
      "26    1455.910737  1457.373571  1461.567031  1457.178527  1458.543839  ...   \n",
      "27    1454.350379  1456.495871  1463.517478  1458.056228  1457.958705  ...   \n",
      "28    1453.082589  1456.203304  1464.297656  1460.981897  1460.104196  ...   \n",
      "29    1449.084174  1457.666138  1461.176942  1461.176942  1462.054643  ...   \n",
      "...           ...          ...          ...          ...          ...  ...   \n",
      "3618  1461.567031  1467.515893  1456.398348  1448.986652  1459.226496  ...   \n",
      "3619  1458.153750  1467.515893  1459.031451  1450.742054  1459.421540  ...   \n",
      "3620  1460.006674  1464.785268  1457.081004  1448.401518  1465.467924  ...   \n",
      "3621  1459.909152  1462.737299  1459.226496  1450.839576  1466.443147  ...   \n",
      "3622  1453.570201  1462.932344  1454.350379  1453.862768  1469.466339  ...   \n",
      "3623  1452.497455  1462.932344  1449.571786  1458.348795  1469.173772  ...   \n",
      "3624  1447.718862  1462.444732  1452.985067  1456.983482  1470.441562  ...   \n",
      "3625  1446.451071  1461.176942  1452.009844  1461.176942  1469.271295  ...   \n",
      "3626  1448.206473  1459.616585  1449.961875  1456.300826  1466.638192  ...   \n",
      "3627  1447.133728  1457.763661  1453.570201  1455.520647  1466.150580  ...   \n",
      "3628  1445.573371  1460.299241  1455.325603  1452.009844  1460.201719  ...   \n",
      "3629  1444.305580  1459.226496  1457.763661  1451.034621  1457.568616  ...   \n",
      "3630  1443.135312  1459.324018  1456.788438  1450.351964  1457.861183  ...   \n",
      "3631  1441.282388  1455.813214  1460.884375  1450.644531  1456.495871  ...   \n",
      "3632  1444.695670  1456.690915  1461.469509  1450.644531  1458.933929  ...   \n",
      "3633  1442.160089  1462.737299  1458.153750  1448.011429  1460.299241  ...   \n",
      "3634  1445.085759  1460.201719  1457.666138  1450.839576  1460.591808  ...   \n",
      "3635  1447.328772  1456.008259  1456.593393  1448.791607  1459.421540  ...   \n",
      "3636  1448.303996  1448.596563  1459.226496  1448.011429  1457.958705  ...   \n",
      "3637  1448.889129  1449.181696  1453.277634  1447.913906  1457.763661  ...   \n",
      "3638  1433.578125  1527.784688  1484.777344  1423.338281  1382.378906  ...   \n",
      "3639  1398.762656  1472.489531  1484.777344  1478.633437  1476.585469  ...   \n",
      "3640  1447.913906  1449.961875  1474.537500  1429.482188  1454.057812  ...   \n",
      "3641  1400.810625  1409.002500  1482.729375  1427.434219  1425.386250  ...   \n",
      "3642  1501.161094  1486.825313  1507.305000  1466.345625  1511.400938  ...   \n",
      "3643  1406.954531  1492.969219  1382.378906  1415.146406  1449.961875  ...   \n",
      "3644  1525.736719  1421.290313  1417.194375  1470.441562  1452.009844  ...   \n",
      "3645  1435.626094  1441.770000  1449.961875  1427.434219  1454.057812  ...   \n",
      "3646  1468.393594  1392.618750  1482.729375  1437.674062  1460.201719  ...   \n",
      "3647  1478.633437  1429.482188  1398.762656  1499.113125  1447.913906  ...   \n",
      "\n",
      "      Espectros92  Espectros93  Espectros94  Espectros95  Espectros96  \\\n",
      "0     1454.057812  1423.338281  1425.386250  1398.762656  1415.146406   \n",
      "1     1454.057812  1423.338281  1425.386250  1398.762656  1415.146406   \n",
      "2     1454.057812  1423.338281  1425.386250  1398.762656  1415.146406   \n",
      "3     1433.578125  1441.770000  1497.065156  1400.810625  1447.913906   \n",
      "4     1392.618750  1437.674062  1458.153750  1495.017188  1480.681406   \n",
      "5     1490.921250  1427.434219  1445.865937  1497.065156  1497.065156   \n",
      "6     1433.578125  1452.009844  1486.825313  1464.297656  1449.961875   \n",
      "7     1413.098438  1484.777344  1433.578125  1388.522813  1429.482188   \n",
      "8     1460.201719  1472.489531  1478.633437  1521.640781  1462.249687   \n",
      "9     1470.441562  1445.865937  1466.345625  1439.722031  1472.489531   \n",
      "10    1451.424710  1452.594978  1451.327188  1447.816384  1459.324018   \n",
      "11    1449.279219  1454.057812  1452.302411  1448.694085  1457.081004   \n",
      "12    1450.644531  1452.985067  1453.765246  1450.351964  1461.664554   \n",
      "13    1449.571786  1449.571786  1454.935513  1454.252857  1462.347210   \n",
      "14    1452.009844  1448.694085  1453.472679  1459.226496  1462.639777   \n",
      "15    1453.960290  1449.084174  1452.887545  1459.616585  1461.469509   \n",
      "16    1452.204888  1448.889129  1449.571786  1456.690915  1457.276049   \n",
      "17    1451.619754  1451.229665  1445.183281  1457.081004  1462.737299   \n",
      "18    1452.497455  1451.327187  1444.793192  1461.469509  1462.834821   \n",
      "19    1454.740469  1450.059397  1443.817969  1459.128973  1462.639777   \n",
      "20    1456.300826  1448.206473  1444.500625  1458.836406  1461.176942   \n",
      "21    1456.398348  1446.451071  1444.110536  1458.543839  1457.568616   \n",
      "22    1456.690915  1445.573371  1445.573371  1460.884375  1454.545424   \n",
      "23    1451.132143  1447.913906  1447.328772  1458.933929  1454.155335   \n",
      "24    1450.254442  1445.768415  1446.158504  1461.859598  1456.105781   \n",
      "25    1454.642946  1446.158504  1443.330357  1464.882790  1456.300826   \n",
      "26    1454.252857  1445.183281  1444.500625  1464.102612  1455.715692   \n",
      "27    1455.130558  1443.330357  1446.451071  1464.200134  1455.423125   \n",
      "28    1453.960290  1443.915491  1446.841161  1463.322433  1454.057812   \n",
      "29    1450.644531  1442.842746  1447.328772  1462.054643  1451.132143   \n",
      "...           ...          ...          ...          ...          ...   \n",
      "3618  1451.229665  1456.105781  1448.108951  1444.305580  1453.082589   \n",
      "3619  1450.937098  1451.327188  1446.646116  1446.256027  1454.935513   \n",
      "3620  1452.594978  1453.765246  1444.695670  1444.500625  1454.837991   \n",
      "3621  1446.451071  1452.302411  1445.475848  1446.353549  1452.107366   \n",
      "3622  1446.353549  1446.743638  1446.256027  1448.011429  1455.423125   \n",
      "3623  1447.231250  1442.842746  1448.401518  1451.619754  1456.788438   \n",
      "3624  1451.132143  1444.208058  1448.889129  1450.156920  1458.446317   \n",
      "3625  1455.033036  1448.108951  1450.449487  1450.254442  1458.933929   \n",
      "3626  1451.814799  1445.085759  1452.594978  1451.912321  1460.396763   \n",
      "3627  1451.132143  1447.133728  1452.692500  1451.424710  1462.054643   \n",
      "3628  1454.252857  1450.937098  1449.181696  1451.619754  1462.444732   \n",
      "3629  1454.057813  1450.742054  1453.277634  1453.180112  1460.981897   \n",
      "3630  1454.057812  1447.328772  1456.008259  1452.107366  1459.128973   \n",
      "3631  1453.765246  1446.060982  1454.155335  1451.327188  1460.689330   \n",
      "3632  1453.277634  1442.452656  1455.715692  1452.009844  1462.444732   \n",
      "3633  1451.717277  1444.110536  1453.277634  1452.399933  1463.907567   \n",
      "3634  1451.132143  1447.523817  1456.788437  1453.570201  1465.370402   \n",
      "3635  1452.497455  1451.132143  1454.642946  1455.520647  1464.297656   \n",
      "3636  1449.669308  1451.229665  1452.009844  1451.424710  1461.274464   \n",
      "3637  1451.034621  1452.985067  1452.790022  1452.399933  1462.932344   \n",
      "3638  1480.681406  1501.161094  1433.578125  1486.825313  1449.961875   \n",
      "3639  1449.961875  1447.913906  1476.585469  1437.674062  1429.482188   \n",
      "3640  1445.865937  1431.530156  1445.865937  1460.201719  1435.626094   \n",
      "3641  1423.338281  1415.146406  1437.674062  1413.098438  1531.880625   \n",
      "3642  1437.674062  1458.153750  1437.674062  1445.865937  1472.489531   \n",
      "3643  1456.105781  1456.105781  1427.434219  1452.009844  1439.722031   \n",
      "3644  1441.770000  1505.257031  1466.345625  1425.386250  1490.921250   \n",
      "3645  1435.626094  1490.921250  1488.873281  1488.873281  1476.585469   \n",
      "3646  1421.290313  1462.249687  1382.378906  1429.482188  1406.954531   \n",
      "3647  1435.626094  1499.113125  1454.057812  1470.441562  1464.297656   \n",
      "\n",
      "      Espectros97  Espectros98  Espectros99  Espectros100  Espectros101  \n",
      "0     1454.057812  1425.386250  1413.098438   1454.057812   1458.153750  \n",
      "1     1454.057812  1425.386250  1413.098438   1454.057812   1458.153750  \n",
      "2     1454.057812  1425.386250  1413.098438   1454.057812   1458.153750  \n",
      "3     1472.489531  1482.729375  1431.530156   1503.209063   1372.139062  \n",
      "4     1441.770000  1386.474844  1454.057812   1531.880625   1409.002500  \n",
      "5     1435.626094  1482.729375  1482.729375   1495.017188   1425.386250  \n",
      "6     1482.729375  1486.825313  1419.242344   1404.906563   1454.057812  \n",
      "7     1462.249687  1439.722031  1472.489531   1460.201719   1445.865937  \n",
      "8     1415.146406  1476.585469  1452.009844   1495.017188   1433.578125  \n",
      "9     1462.249687  1390.570781  1472.489531   1437.674062   1445.865937  \n",
      "10    1456.203304  1452.107366  1446.158504   1461.859598   1447.426295  \n",
      "11    1456.398348  1455.423125  1448.303996   1461.762076   1446.938683  \n",
      "12    1456.300826  1459.031451  1450.059397   1460.591808   1445.085759  \n",
      "13    1454.155335  1462.737299  1451.327188   1458.836406   1443.720446  \n",
      "14    1456.885960  1461.079420  1453.765246   1455.715692   1449.279219  \n",
      "15    1456.203304  1462.249688  1453.375156   1452.399933   1448.499040  \n",
      "16    1456.885960  1460.591808  1452.204888   1449.474263   1451.619754  \n",
      "17    1454.935513  1457.568616  1454.740469   1451.522232   1451.327188  \n",
      "18    1453.180112  1457.276049  1454.252857   1450.839576   1450.254442  \n",
      "19    1455.813214  1457.178527  1452.302411   1446.841161   1449.669308  \n",
      "20    1454.837991  1458.251272  1450.742054   1449.181696   1450.547009  \n",
      "21    1455.033036  1456.495871  1451.717277   1448.499040   1446.353549  \n",
      "22    1454.545424  1454.545424  1452.790022   1447.426295   1448.791607  \n",
      "23    1454.252857  1453.570201  1456.495871   1449.279219   1450.644531  \n",
      "24    1450.449487  1454.740469  1456.398348   1447.718862   1448.011429  \n",
      "25    1446.256027  1454.837991  1458.153750   1448.986652   1447.231250  \n",
      "26    1447.621339  1455.033036  1456.203304   1450.059397   1450.351964  \n",
      "27    1448.889129  1456.593393  1457.763661   1450.059397   1448.108951  \n",
      "28    1445.378326  1456.593393  1454.252857   1447.523817   1446.256027  \n",
      "29    1443.525402  1459.909152  1453.180112   1446.938683   1443.427879  \n",
      "...           ...          ...          ...           ...           ...  \n",
      "3618  1453.277634  1451.034621  1449.181696   1461.371987   1453.472679  \n",
      "3619  1455.618170  1455.520647  1452.497455   1458.251272   1452.985067  \n",
      "3620  1459.226496  1456.105781  1451.229665   1458.836406   1453.082589  \n",
      "3621  1459.324018  1457.471094  1448.499040   1458.738884   1453.960290  \n",
      "3622  1458.543839  1457.568616  1451.717277   1454.155335   1454.350379  \n",
      "3623  1459.226496  1460.006674  1450.644531   1455.618170   1456.398348  \n",
      "3624  1460.786853  1459.519062  1454.935513   1455.228080   1460.104196  \n",
      "3625  1459.031451  1458.836406  1453.472679   1450.644531   1456.593393  \n",
      "3626  1459.324018  1464.785268  1456.300826   1450.254442   1457.081004  \n",
      "3627  1460.006674  1463.029866  1459.324018   1448.108951   1456.495871  \n",
      "3628  1462.249687  1460.689330  1461.274464   1448.303996   1456.105781  \n",
      "3629  1464.882790  1458.641362  1460.689330   1452.107366   1456.398348  \n",
      "3630  1464.980313  1459.811629  1461.371987   1449.864353   1458.446317  \n",
      "3631  1462.932344  1457.178527  1460.981897   1451.814799   1454.837991  \n",
      "3632  1465.760491  1456.105781  1459.226496   1448.303996   1451.912321  \n",
      "3633  1460.981897  1452.887545  1459.421540   1448.889129   1446.256027  \n",
      "3634  1457.081004  1452.204888  1460.786853   1446.743638   1447.133728  \n",
      "3635  1456.593393  1451.132143  1462.054643   1451.522232   1448.694085  \n",
      "3636  1456.105781  1452.887545  1461.762076   1453.960290   1452.887545  \n",
      "3637  1451.717277  1451.717277  1462.834821   1450.449487   1455.423125  \n",
      "3638  1478.633437  1425.386250  1488.873281   1474.537500   1429.482188  \n",
      "3639  1460.201719  1449.961875  1470.441562   1525.736719   1452.009844  \n",
      "3640  1417.194375  1486.825313  1447.913906   1425.386250   1462.249687  \n",
      "3641  1406.954531  1376.235000  1427.434219   1474.537500   1384.426875  \n",
      "3642  1499.113125  1423.338281  1417.194375   1456.105781   1429.482188  \n",
      "3643  1441.770000  1400.810625  1445.865937   1421.290313   1411.050469  \n",
      "3644  1396.714688  1468.393594  1458.153750   1445.865937   1478.633437  \n",
      "3645  1472.489531  1435.626094  1507.305000   1523.688750   1470.441562  \n",
      "3646  1421.290313  1486.825313  1443.817969   1472.489531   1529.832656  \n",
      "3647  1419.242344  1413.098438  1454.057812   1427.434219   1480.681406  \n",
      "\n",
      "[3648 rows x 101 columns]\n"
     ]
    }
   ],
   "source": [
    "print(data)"
   ]
  },
  {
   "cell_type": "code",
   "execution_count": 68,
   "id": "d1615a15",
   "metadata": {},
   "outputs": [
    {
     "data": {
      "text/plain": [
       "(3648, 101)"
      ]
     },
     "execution_count": 68,
     "metadata": {},
     "output_type": "execute_result"
    }
   ],
   "source": [
    "data.shape"
   ]
  },
  {
   "cell_type": "code",
   "execution_count": 6,
   "id": "d5a0594a",
   "metadata": {},
   "outputs": [
    {
     "data": {
      "text/plain": [
       "0        346.548983\n",
       "1        346.764647\n",
       "2        346.980301\n",
       "3        347.195946\n",
       "4        347.411580\n",
       "5        347.627204\n",
       "6        347.842818\n",
       "7        348.058422\n",
       "8        348.274015\n",
       "9        348.489599\n",
       "10       348.705172\n",
       "11       348.920735\n",
       "12       349.136289\n",
       "13       349.351832\n",
       "14       349.567364\n",
       "15       349.782887\n",
       "16       349.998400\n",
       "17       350.213902\n",
       "18       350.429394\n",
       "19       350.644876\n",
       "20       350.860348\n",
       "21       351.075810\n",
       "22       351.291262\n",
       "23       351.506703\n",
       "24       351.722134\n",
       "25       351.937555\n",
       "26       352.152966\n",
       "27       352.368367\n",
       "28       352.583758\n",
       "29       352.799138\n",
       "           ...     \n",
       "3618    1039.087064\n",
       "3619    1039.248244\n",
       "3620    1039.409405\n",
       "3621    1039.570545\n",
       "3622    1039.731665\n",
       "3623    1039.892766\n",
       "3624    1040.053846\n",
       "3625    1040.214906\n",
       "3626    1040.375946\n",
       "3627    1040.536966\n",
       "3628    1040.697967\n",
       "3629    1040.858947\n",
       "3630    1041.019907\n",
       "3631    1041.180847\n",
       "3632    1041.341767\n",
       "3633    1041.502667\n",
       "3634    1041.663547\n",
       "3635    1041.824406\n",
       "3636    1041.985246\n",
       "3637    1042.146066\n",
       "3638    1042.306866\n",
       "3639    1042.467645\n",
       "3640    1042.628405\n",
       "3641    1042.789144\n",
       "3642    1042.949864\n",
       "3643    1043.110563\n",
       "3644    1043.271242\n",
       "3645    1043.431901\n",
       "3646    1043.592540\n",
       "3647    1043.753159\n",
       "Name: Espectros1, Length: 3648, dtype: float64"
      ]
     },
     "execution_count": 6,
     "metadata": {},
     "output_type": "execute_result"
    }
   ],
   "source": [
    "#La columna 1 son las longitudes de onda\n",
    "\n",
    "data.loc[:,'Espectros1']\n",
    "#data.iloc[:,0]"
   ]
  },
  {
   "cell_type": "code",
   "execution_count": 13,
   "id": "19a7d97e",
   "metadata": {},
   "outputs": [
    {
     "data": {
      "text/plain": [
       "[<matplotlib.lines.Line2D at 0x7fe419e96ef0>,\n",
       " <matplotlib.lines.Line2D at 0x7fe41cdafc50>,\n",
       " <matplotlib.lines.Line2D at 0x7fe41cdafd30>,\n",
       " <matplotlib.lines.Line2D at 0x7fe41cdafe10>,\n",
       " <matplotlib.lines.Line2D at 0x7fe41cdafef0>,\n",
       " <matplotlib.lines.Line2D at 0x7fe41cdaffd0>,\n",
       " <matplotlib.lines.Line2D at 0x7fe41c9ba0f0>,\n",
       " <matplotlib.lines.Line2D at 0x7fe41c9ba1d0>,\n",
       " <matplotlib.lines.Line2D at 0x7fe41c9ba2b0>,\n",
       " <matplotlib.lines.Line2D at 0x7fe41c9ba390>,\n",
       " <matplotlib.lines.Line2D at 0x7fe41ce23da0>,\n",
       " <matplotlib.lines.Line2D at 0x7fe41c9ba518>,\n",
       " <matplotlib.lines.Line2D at 0x7fe41c9ba5f8>,\n",
       " <matplotlib.lines.Line2D at 0x7fe41c9ba6d8>,\n",
       " <matplotlib.lines.Line2D at 0x7fe41c9ba7b8>,\n",
       " <matplotlib.lines.Line2D at 0x7fe41c9ba898>,\n",
       " <matplotlib.lines.Line2D at 0x7fe41c9ba978>,\n",
       " <matplotlib.lines.Line2D at 0x7fe41c80ad68>,\n",
       " <matplotlib.lines.Line2D at 0x7fe41c9baa58>,\n",
       " <matplotlib.lines.Line2D at 0x7fe41c9bab38>,\n",
       " <matplotlib.lines.Line2D at 0x7fe41c9bac18>,\n",
       " <matplotlib.lines.Line2D at 0x7fe41c9bacf8>,\n",
       " <matplotlib.lines.Line2D at 0x7fe41c9badd8>,\n",
       " <matplotlib.lines.Line2D at 0x7fe41c9baeb8>,\n",
       " <matplotlib.lines.Line2D at 0x7fe41c9baf98>,\n",
       " <matplotlib.lines.Line2D at 0x7fe41c7210b8>,\n",
       " <matplotlib.lines.Line2D at 0x7fe41c721198>,\n",
       " <matplotlib.lines.Line2D at 0x7fe41c721278>,\n",
       " <matplotlib.lines.Line2D at 0x7fe41c721358>,\n",
       " <matplotlib.lines.Line2D at 0x7fe41c721438>,\n",
       " <matplotlib.lines.Line2D at 0x7fe41c721518>,\n",
       " <matplotlib.lines.Line2D at 0x7fe41c7215f8>,\n",
       " <matplotlib.lines.Line2D at 0x7fe41c7216d8>,\n",
       " <matplotlib.lines.Line2D at 0x7fe41c7217b8>,\n",
       " <matplotlib.lines.Line2D at 0x7fe41c721898>,\n",
       " <matplotlib.lines.Line2D at 0x7fe41c721978>,\n",
       " <matplotlib.lines.Line2D at 0x7fe41c721a58>,\n",
       " <matplotlib.lines.Line2D at 0x7fe41c721b38>,\n",
       " <matplotlib.lines.Line2D at 0x7fe41c721c18>,\n",
       " <matplotlib.lines.Line2D at 0x7fe41c721cf8>,\n",
       " <matplotlib.lines.Line2D at 0x7fe41c721dd8>,\n",
       " <matplotlib.lines.Line2D at 0x7fe41c721eb8>,\n",
       " <matplotlib.lines.Line2D at 0x7fe41c721f98>,\n",
       " <matplotlib.lines.Line2D at 0x7fe41ca020b8>,\n",
       " <matplotlib.lines.Line2D at 0x7fe41ca02198>,\n",
       " <matplotlib.lines.Line2D at 0x7fe41ca02278>,\n",
       " <matplotlib.lines.Line2D at 0x7fe41ca02358>,\n",
       " <matplotlib.lines.Line2D at 0x7fe41ca02438>,\n",
       " <matplotlib.lines.Line2D at 0x7fe41ca02518>,\n",
       " <matplotlib.lines.Line2D at 0x7fe41ca025f8>,\n",
       " <matplotlib.lines.Line2D at 0x7fe41ca026d8>,\n",
       " <matplotlib.lines.Line2D at 0x7fe41ca027b8>,\n",
       " <matplotlib.lines.Line2D at 0x7fe41ca02898>,\n",
       " <matplotlib.lines.Line2D at 0x7fe41ca02978>,\n",
       " <matplotlib.lines.Line2D at 0x7fe41ca02a58>,\n",
       " <matplotlib.lines.Line2D at 0x7fe41ca02b38>,\n",
       " <matplotlib.lines.Line2D at 0x7fe41ca02c18>,\n",
       " <matplotlib.lines.Line2D at 0x7fe41ca02cf8>,\n",
       " <matplotlib.lines.Line2D at 0x7fe41ca02dd8>,\n",
       " <matplotlib.lines.Line2D at 0x7fe41ca02eb8>,\n",
       " <matplotlib.lines.Line2D at 0x7fe41ca02f98>,\n",
       " <matplotlib.lines.Line2D at 0x7fe41ccbb0b8>,\n",
       " <matplotlib.lines.Line2D at 0x7fe41ccbb198>,\n",
       " <matplotlib.lines.Line2D at 0x7fe41ccbb278>,\n",
       " <matplotlib.lines.Line2D at 0x7fe41ccbb358>,\n",
       " <matplotlib.lines.Line2D at 0x7fe41ccbb438>,\n",
       " <matplotlib.lines.Line2D at 0x7fe41ccbb518>,\n",
       " <matplotlib.lines.Line2D at 0x7fe41ccbb5f8>,\n",
       " <matplotlib.lines.Line2D at 0x7fe41ccbb6d8>,\n",
       " <matplotlib.lines.Line2D at 0x7fe41ccbb7b8>,\n",
       " <matplotlib.lines.Line2D at 0x7fe41ccbb898>,\n",
       " <matplotlib.lines.Line2D at 0x7fe41ccbb978>,\n",
       " <matplotlib.lines.Line2D at 0x7fe41ccbba58>,\n",
       " <matplotlib.lines.Line2D at 0x7fe41ccbbb38>,\n",
       " <matplotlib.lines.Line2D at 0x7fe41ccbbc18>,\n",
       " <matplotlib.lines.Line2D at 0x7fe41ccbbcf8>,\n",
       " <matplotlib.lines.Line2D at 0x7fe41ccbbdd8>,\n",
       " <matplotlib.lines.Line2D at 0x7fe41ccbbeb8>,\n",
       " <matplotlib.lines.Line2D at 0x7fe41ccbbf98>,\n",
       " <matplotlib.lines.Line2D at 0x7fe41c7eb0b8>,\n",
       " <matplotlib.lines.Line2D at 0x7fe41c7eb198>,\n",
       " <matplotlib.lines.Line2D at 0x7fe41c7eb278>,\n",
       " <matplotlib.lines.Line2D at 0x7fe41c7eb358>,\n",
       " <matplotlib.lines.Line2D at 0x7fe41c7eb438>,\n",
       " <matplotlib.lines.Line2D at 0x7fe41c7eb518>,\n",
       " <matplotlib.lines.Line2D at 0x7fe41c7eb5f8>,\n",
       " <matplotlib.lines.Line2D at 0x7fe41c7eb6d8>,\n",
       " <matplotlib.lines.Line2D at 0x7fe41c7eb7b8>,\n",
       " <matplotlib.lines.Line2D at 0x7fe41c7eb898>,\n",
       " <matplotlib.lines.Line2D at 0x7fe41c7eb978>,\n",
       " <matplotlib.lines.Line2D at 0x7fe41c7eba58>,\n",
       " <matplotlib.lines.Line2D at 0x7fe41c7ebb38>,\n",
       " <matplotlib.lines.Line2D at 0x7fe41c7ebc18>,\n",
       " <matplotlib.lines.Line2D at 0x7fe41c7ebcf8>,\n",
       " <matplotlib.lines.Line2D at 0x7fe41c7ebdd8>,\n",
       " <matplotlib.lines.Line2D at 0x7fe41c7ebeb8>,\n",
       " <matplotlib.lines.Line2D at 0x7fe41c7ebf98>,\n",
       " <matplotlib.lines.Line2D at 0x7fe41c5660b8>,\n",
       " <matplotlib.lines.Line2D at 0x7fe41c566198>]"
      ]
     },
     "execution_count": 13,
     "metadata": {},
     "output_type": "execute_result"
    },
    {
     "data": {
      "image/png": "[encoded data removed]",
      "text/plain": [
       "<Figure size 432x288 with 1 Axes>"
      ]
     },
     "metadata": {
      "needs_background": "light"
     },
     "output_type": "display_data"
    }
   ],
   "source": [
    "plt.plot(data.iloc[:,0],data.iloc[:,1:100])"
   ]
  },
  {
   "cell_type": "code",
   "execution_count": 70,
   "id": "3223b392",
   "metadata": {},
   "outputs": [],
   "source": [
    "#Promedio de las 100 columnas\n",
    "\n",
    "#Matriz de ceros que contiene los espectros\n",
    "A1=np.zeros((3648,101))\n",
    "A2=np.zeros((3648,101))\n",
    "A3=np.zeros((3648,101))\n",
    "#AT=np.zeros((3648,101))\n",
    "AT=np.zeros((3648,101))\n",
    "\n",
    "\n",
    "#Promedio de las columnas\n",
    "for i in range(0,3648):\n",
    "    A1[i]=data1.iloc[i,1:101].mean()\n",
    "    A2[i]=data2.iloc[i,1:101].mean()\n",
    "    A3[i]=data3.iloc[i,1:101].mean()\n",
    "    AT[i]=(A1[i]+A2[i]+A3[i])/3"
   ]
  },
  {
   "cell_type": "code",
   "execution_count": 61,
   "id": "a659dfc6",
   "metadata": {},
   "outputs": [
    {
     "data": {
      "text/plain": [
       "[<matplotlib.lines.Line2D at 0x7fe4194f1f98>,\n",
       " <matplotlib.lines.Line2D at 0x7fe4194fe0f0>,\n",
       " <matplotlib.lines.Line2D at 0x7fe4194fe1d0>,\n",
       " <matplotlib.lines.Line2D at 0x7fe4194f1128>,\n",
       " <matplotlib.lines.Line2D at 0x7fe4194fe2b0>,\n",
       " <matplotlib.lines.Line2D at 0x7fe4194fe390>,\n",
       " <matplotlib.lines.Line2D at 0x7fe4194fe470>,\n",
       " <matplotlib.lines.Line2D at 0x7fe4194fe550>,\n",
       " <matplotlib.lines.Line2D at 0x7fe4194fe630>,\n",
       " <matplotlib.lines.Line2D at 0x7fe4194fe710>,\n",
       " <matplotlib.lines.Line2D at 0x7fe41954f5c0>,\n",
       " <matplotlib.lines.Line2D at 0x7fe4194fe898>,\n",
       " <matplotlib.lines.Line2D at 0x7fe4194fe978>,\n",
       " <matplotlib.lines.Line2D at 0x7fe4194fea58>,\n",
       " <matplotlib.lines.Line2D at 0x7fe4194feb38>,\n",
       " <matplotlib.lines.Line2D at 0x7fe4194fec18>,\n",
       " <matplotlib.lines.Line2D at 0x7fe4194fecf8>,\n",
       " <matplotlib.lines.Line2D at 0x7fe4194fedd8>,\n",
       " <matplotlib.lines.Line2D at 0x7fe4194feeb8>,\n",
       " <matplotlib.lines.Line2D at 0x7fe4194fef98>,\n",
       " <matplotlib.lines.Line2D at 0x7fe4195090b8>,\n",
       " <matplotlib.lines.Line2D at 0x7fe419509198>,\n",
       " <matplotlib.lines.Line2D at 0x7fe419509278>,\n",
       " <matplotlib.lines.Line2D at 0x7fe419509358>,\n",
       " <matplotlib.lines.Line2D at 0x7fe419509438>,\n",
       " <matplotlib.lines.Line2D at 0x7fe419509518>,\n",
       " <matplotlib.lines.Line2D at 0x7fe4195095f8>,\n",
       " <matplotlib.lines.Line2D at 0x7fe4195096d8>,\n",
       " <matplotlib.lines.Line2D at 0x7fe4195097b8>,\n",
       " <matplotlib.lines.Line2D at 0x7fe419509898>,\n",
       " <matplotlib.lines.Line2D at 0x7fe419509978>,\n",
       " <matplotlib.lines.Line2D at 0x7fe419509a58>,\n",
       " <matplotlib.lines.Line2D at 0x7fe419509b38>,\n",
       " <matplotlib.lines.Line2D at 0x7fe419509c18>,\n",
       " <matplotlib.lines.Line2D at 0x7fe419509cf8>,\n",
       " <matplotlib.lines.Line2D at 0x7fe419509dd8>,\n",
       " <matplotlib.lines.Line2D at 0x7fe419509eb8>,\n",
       " <matplotlib.lines.Line2D at 0x7fe419509f98>,\n",
       " <matplotlib.lines.Line2D at 0x7fe4195120b8>,\n",
       " <matplotlib.lines.Line2D at 0x7fe419512198>,\n",
       " <matplotlib.lines.Line2D at 0x7fe419512278>,\n",
       " <matplotlib.lines.Line2D at 0x7fe419512358>,\n",
       " <matplotlib.lines.Line2D at 0x7fe419512438>,\n",
       " <matplotlib.lines.Line2D at 0x7fe419512518>,\n",
       " <matplotlib.lines.Line2D at 0x7fe4195125f8>,\n",
       " <matplotlib.lines.Line2D at 0x7fe4195126d8>,\n",
       " <matplotlib.lines.Line2D at 0x7fe4195127b8>,\n",
       " <matplotlib.lines.Line2D at 0x7fe419512898>,\n",
       " <matplotlib.lines.Line2D at 0x7fe419512978>,\n",
       " <matplotlib.lines.Line2D at 0x7fe419512a58>,\n",
       " <matplotlib.lines.Line2D at 0x7fe419512b38>,\n",
       " <matplotlib.lines.Line2D at 0x7fe419512c18>,\n",
       " <matplotlib.lines.Line2D at 0x7fe419512cf8>,\n",
       " <matplotlib.lines.Line2D at 0x7fe419512dd8>,\n",
       " <matplotlib.lines.Line2D at 0x7fe419512eb8>,\n",
       " <matplotlib.lines.Line2D at 0x7fe419512f98>,\n",
       " <matplotlib.lines.Line2D at 0x7fe41949d0b8>,\n",
       " <matplotlib.lines.Line2D at 0x7fe41949d198>,\n",
       " <matplotlib.lines.Line2D at 0x7fe41949d278>,\n",
       " <matplotlib.lines.Line2D at 0x7fe41949d358>,\n",
       " <matplotlib.lines.Line2D at 0x7fe41949d438>,\n",
       " <matplotlib.lines.Line2D at 0x7fe41949d518>,\n",
       " <matplotlib.lines.Line2D at 0x7fe41949d5f8>,\n",
       " <matplotlib.lines.Line2D at 0x7fe41949d6d8>,\n",
       " <matplotlib.lines.Line2D at 0x7fe41949d7b8>,\n",
       " <matplotlib.lines.Line2D at 0x7fe41949d898>,\n",
       " <matplotlib.lines.Line2D at 0x7fe41949d978>,\n",
       " <matplotlib.lines.Line2D at 0x7fe41949da58>,\n",
       " <matplotlib.lines.Line2D at 0x7fe41949db38>,\n",
       " <matplotlib.lines.Line2D at 0x7fe41949dc18>,\n",
       " <matplotlib.lines.Line2D at 0x7fe41949dcf8>,\n",
       " <matplotlib.lines.Line2D at 0x7fe41949ddd8>,\n",
       " <matplotlib.lines.Line2D at 0x7fe41949deb8>,\n",
       " <matplotlib.lines.Line2D at 0x7fe41949df98>,\n",
       " <matplotlib.lines.Line2D at 0x7fe4194a70b8>,\n",
       " <matplotlib.lines.Line2D at 0x7fe4194a7198>,\n",
       " <matplotlib.lines.Line2D at 0x7fe4194a7278>,\n",
       " <matplotlib.lines.Line2D at 0x7fe4194a7358>,\n",
       " <matplotlib.lines.Line2D at 0x7fe4194a7438>,\n",
       " <matplotlib.lines.Line2D at 0x7fe4194a7518>,\n",
       " <matplotlib.lines.Line2D at 0x7fe4194a75f8>,\n",
       " <matplotlib.lines.Line2D at 0x7fe4194a76d8>,\n",
       " <matplotlib.lines.Line2D at 0x7fe4194a77b8>,\n",
       " <matplotlib.lines.Line2D at 0x7fe4194a7898>,\n",
       " <matplotlib.lines.Line2D at 0x7fe4194a7978>,\n",
       " <matplotlib.lines.Line2D at 0x7fe4194a7a58>,\n",
       " <matplotlib.lines.Line2D at 0x7fe4194a7b38>,\n",
       " <matplotlib.lines.Line2D at 0x7fe4194a7c18>,\n",
       " <matplotlib.lines.Line2D at 0x7fe4194a7cf8>,\n",
       " <matplotlib.lines.Line2D at 0x7fe4194a7dd8>,\n",
       " <matplotlib.lines.Line2D at 0x7fe4194a7eb8>,\n",
       " <matplotlib.lines.Line2D at 0x7fe4194a7f98>,\n",
       " <matplotlib.lines.Line2D at 0x7fe4194b00b8>,\n",
       " <matplotlib.lines.Line2D at 0x7fe4194b0198>,\n",
       " <matplotlib.lines.Line2D at 0x7fe4194b0278>,\n",
       " <matplotlib.lines.Line2D at 0x7fe4194b0358>,\n",
       " <matplotlib.lines.Line2D at 0x7fe4194b0438>,\n",
       " <matplotlib.lines.Line2D at 0x7fe4194b0518>,\n",
       " <matplotlib.lines.Line2D at 0x7fe4194b05f8>,\n",
       " <matplotlib.lines.Line2D at 0x7fe4194b06d8>,\n",
       " <matplotlib.lines.Line2D at 0x7fe4194b07b8>]"
      ]
     },
     "execution_count": 61,
     "metadata": {},
     "output_type": "execute_result"
    },
    {
     "data": {
      "image/png": "[encoded data removed]",
      "text/plain": [
       "<Figure size 432x288 with 1 Axes>"
      ]
     },
     "metadata": {
      "needs_background": "light"
     },
     "output_type": "display_data"
    }
   ],
   "source": [
    "plt.plot(data1.iloc[:,0],AT)"
   ]
  },
  {
   "cell_type": "code",
   "execution_count": 40,
   "id": "1e320bd8",
   "metadata": {},
   "outputs": [
    {
     "data": {
      "text/plain": [
       "array([[0.],\n",
       "       [0.],\n",
       "       [0.],\n",
       "       ...,\n",
       "       [0.],\n",
       "       [0.],\n",
       "       [0.]])"
      ]
     },
     "execution_count": 40,
     "metadata": {},
     "output_type": "execute_result"
    }
   ],
   "source": [
    "A=np.zeros((3648,1))\n",
    "A"
   ]
  },
  {
   "cell_type": "code",
   "execution_count": 69,
   "id": "46047e87",
   "metadata": {},
   "outputs": [
    {
     "data": {
      "text/plain": [
       "(3648, 101)"
      ]
     },
     "execution_count": 69,
     "metadata": {},
     "output_type": "execute_result"
    }
   ],
   "source": [
    "AT.shape"
   ]
  },
  {
   "cell_type": "code",
   "execution_count": 91,
   "id": "91f226aa",
   "metadata": {},
   "outputs": [],
   "source": [
    "for i in range(0,3648):\n",
    "    A[i]=AT[i,1:101].mean()"
   ]
  },
  {
   "cell_type": "code",
   "execution_count": 92,
   "id": "10694a3d",
   "metadata": {},
   "outputs": [
    {
     "data": {
      "text/plain": [
       "array([[1451.23161562],\n",
       "       [1451.23161562],\n",
       "       [1451.23161562],\n",
       "       ...,\n",
       "       [1454.41962031],\n",
       "       [1457.12293906],\n",
       "       [1452.72663281]])"
      ]
     },
     "execution_count": 92,
     "metadata": {},
     "output_type": "execute_result"
    }
   ],
   "source": [
    "A"
   ]
  },
  {
   "cell_type": "code",
   "execution_count": 135,
   "id": "b933f7a6",
   "metadata": {},
   "outputs": [
    {
     "data": {
      "image/png": "[encoded data removed]",
      "text/plain": [
       "<Figure size 432x288 with 1 Axes>"
      ]
     },
     "metadata": {
      "needs_background": "light"
     },
     "output_type": "display_data"
    }
   ],
   "source": [
    "plt.plot(data1.iloc[:,0],A)\n",
    "plt.axvline(x=653.38,color='red', ls='--', lw=0.8, label='Max wavelength=653.38[nm]')\n",
    "plt.legend(fontsize=\"8\")\n",
    "plt.xlabel(\"Wavelengths [nm]\")\n",
    "plt.ylabel(\"Intensity \")\n",
    "\n",
    "plt.savefig(\"espectro.pdf\")"
   ]
  },
  {
   "cell_type": "code",
   "execution_count": 110,
   "id": "3a8001a4",
   "metadata": {},
   "outputs": [
    {
     "name": "stdout",
     "output_type": "stream",
     "text": [
      "Indice del máximo valor de A : 1481\n"
     ]
    }
   ],
   "source": [
    "max = A[0]\n",
    "index = 0\n",
    "for i in range(1,len(A)):\n",
    "    if A[i] > max:\n",
    "        max = A[i]\n",
    "        index = i\n",
    "print(f'Indice del máximo valor de A : {index}')"
   ]
  },
  {
   "cell_type": "code",
   "execution_count": 112,
   "id": "afd0cee3",
   "metadata": {},
   "outputs": [
    {
     "data": {
      "text/plain": [
       "653.3888693334853"
      ]
     },
     "execution_count": 112,
     "metadata": {},
     "output_type": "execute_result"
    }
   ],
   "source": [
    "#La longitud de onda del valor máximo central\n",
    "data1.iloc[index,0]"
   ]
  },
  {
   "cell_type": "code",
   "execution_count": null,
   "id": "f9a0d582",
   "metadata": {},
   "outputs": [],
   "source": []
  }
 ],
 "metadata": {
  "kernelspec": {
   "display_name": "Python 3",
   "language": "python",
   "name": "python3"
  },
  "language_info": {
   "codemirror_mode": {
    "name": "ipython",
    "version": 3
   },
   "file_extension": ".py",
   "mimetype": "text/x-python",
   "name": "python",
   "nbconvert_exporter": "python",
   "pygments_lexer": "ipython3",
   "version": "3.7.3"
  }
 },
 "nbformat": 4,
 "nbformat_minor": 5
}
